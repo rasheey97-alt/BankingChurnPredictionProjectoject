{
 "cells": [
  {
   "cell_type": "code",
   "execution_count": 1,
   "id": "55930412",
   "metadata": {
    "_cell_guid": "b1076dfc-b9ad-4769-8c92-a6c4dae69d19",
    "_uuid": "8f2839f25d086af736a60e9eeb907d3b93b6e0e5",
    "execution": {
     "iopub.execute_input": "2023-11-27T16:19:11.023610Z",
     "iopub.status.busy": "2023-11-27T16:19:11.022903Z",
     "iopub.status.idle": "2023-11-27T16:19:11.545181Z",
     "shell.execute_reply": "2023-11-27T16:19:11.544098Z"
    },
    "papermill": {
     "duration": 0.539233,
     "end_time": "2023-11-27T16:19:11.547929",
     "exception": false,
     "start_time": "2023-11-27T16:19:11.008696",
     "status": "completed"
    },
    "tags": []
   },
   "outputs": [
    {
     "name": "stdout",
     "output_type": "stream",
     "text": [
      "/kaggle/input/bank-customer-churn-prediction/Churn_Modelling.csv\n"
     ]
    }
   ],
   "source": [
    "# This Python 3 environment comes with many helpful analytics libraries installed\n",
    "# It is defined by the kaggle/python Docker image: https://github.com/kaggle/docker-python\n",
    "# For example, here's several helpful packages to load\n",
    "\n",
    "import numpy as np # linear algebra\n",
    "import pandas as pd # data processing, CSV file I/O (e.g. pd.read_csv)\n",
    "\n",
    "# Input data files are available in the read-only \"../input/\" directory\n",
    "# For example, running this (by clicking run or pressing Shift+Enter) will list all files under the input directory\n",
    "\n",
    "import os\n",
    "for dirname, _, filenames in os.walk('/kaggle/input'):\n",
    "    for filename in filenames:\n",
    "        print(os.path.join(dirname, filename))\n",
    "\n",
    "# You can write up to 20GB to the current directory (/kaggle/working/) that gets preserved as output when you create a version using \"Save & Run All\" \n",
    "# You can also write temporary files to /kaggle/temp/, but they won't be saved outside of the current session"
   ]
  },
  {
   "cell_type": "markdown",
   "id": "de541aab",
   "metadata": {
    "papermill": {
     "duration": 0.012618,
     "end_time": "2023-11-27T16:19:11.572018",
     "exception": false,
     "start_time": "2023-11-27T16:19:11.559400",
     "status": "completed"
    },
    "tags": []
   },
   "source": [
    "# **Data Loading**"
   ]
  },
  {
   "cell_type": "code",
   "execution_count": 2,
   "id": "6cb04eec",
   "metadata": {
    "execution": {
     "iopub.execute_input": "2023-11-27T16:19:11.596594Z",
     "iopub.status.busy": "2023-11-27T16:19:11.595922Z",
     "iopub.status.idle": "2023-11-27T16:19:11.692362Z",
     "shell.execute_reply": "2023-11-27T16:19:11.690989Z"
    },
    "papermill": {
     "duration": 0.112134,
     "end_time": "2023-11-27T16:19:11.695236",
     "exception": false,
     "start_time": "2023-11-27T16:19:11.583102",
     "status": "completed"
    },
    "tags": []
   },
   "outputs": [
    {
     "data": {
      "text/html": [
       "<div>\n",
       "<style scoped>\n",
       "    .dataframe tbody tr th:only-of-type {\n",
       "        vertical-align: middle;\n",
       "    }\n",
       "\n",
       "    .dataframe tbody tr th {\n",
       "        vertical-align: top;\n",
       "    }\n",
       "\n",
       "    .dataframe thead th {\n",
       "        text-align: right;\n",
       "    }\n",
       "</style>\n",
       "<table border=\"1\" class=\"dataframe\">\n",
       "  <thead>\n",
       "    <tr style=\"text-align: right;\">\n",
       "      <th></th>\n",
       "      <th>RowNumber</th>\n",
       "      <th>CustomerId</th>\n",
       "      <th>Surname</th>\n",
       "      <th>CreditScore</th>\n",
       "      <th>Geography</th>\n",
       "      <th>Gender</th>\n",
       "      <th>Age</th>\n",
       "      <th>Tenure</th>\n",
       "      <th>Balance</th>\n",
       "      <th>NumOfProducts</th>\n",
       "      <th>HasCrCard</th>\n",
       "      <th>IsActiveMember</th>\n",
       "      <th>EstimatedSalary</th>\n",
       "      <th>Exited</th>\n",
       "    </tr>\n",
       "  </thead>\n",
       "  <tbody>\n",
       "    <tr>\n",
       "      <th>0</th>\n",
       "      <td>1</td>\n",
       "      <td>15634602</td>\n",
       "      <td>Hargrave</td>\n",
       "      <td>619</td>\n",
       "      <td>France</td>\n",
       "      <td>Female</td>\n",
       "      <td>42</td>\n",
       "      <td>2</td>\n",
       "      <td>0.00</td>\n",
       "      <td>1</td>\n",
       "      <td>1</td>\n",
       "      <td>1</td>\n",
       "      <td>101348.88</td>\n",
       "      <td>1</td>\n",
       "    </tr>\n",
       "    <tr>\n",
       "      <th>1</th>\n",
       "      <td>2</td>\n",
       "      <td>15647311</td>\n",
       "      <td>Hill</td>\n",
       "      <td>608</td>\n",
       "      <td>Spain</td>\n",
       "      <td>Female</td>\n",
       "      <td>41</td>\n",
       "      <td>1</td>\n",
       "      <td>83807.86</td>\n",
       "      <td>1</td>\n",
       "      <td>0</td>\n",
       "      <td>1</td>\n",
       "      <td>112542.58</td>\n",
       "      <td>0</td>\n",
       "    </tr>\n",
       "    <tr>\n",
       "      <th>2</th>\n",
       "      <td>3</td>\n",
       "      <td>15619304</td>\n",
       "      <td>Onio</td>\n",
       "      <td>502</td>\n",
       "      <td>France</td>\n",
       "      <td>Female</td>\n",
       "      <td>42</td>\n",
       "      <td>8</td>\n",
       "      <td>159660.80</td>\n",
       "      <td>3</td>\n",
       "      <td>1</td>\n",
       "      <td>0</td>\n",
       "      <td>113931.57</td>\n",
       "      <td>1</td>\n",
       "    </tr>\n",
       "    <tr>\n",
       "      <th>3</th>\n",
       "      <td>4</td>\n",
       "      <td>15701354</td>\n",
       "      <td>Boni</td>\n",
       "      <td>699</td>\n",
       "      <td>France</td>\n",
       "      <td>Female</td>\n",
       "      <td>39</td>\n",
       "      <td>1</td>\n",
       "      <td>0.00</td>\n",
       "      <td>2</td>\n",
       "      <td>0</td>\n",
       "      <td>0</td>\n",
       "      <td>93826.63</td>\n",
       "      <td>0</td>\n",
       "    </tr>\n",
       "    <tr>\n",
       "      <th>4</th>\n",
       "      <td>5</td>\n",
       "      <td>15737888</td>\n",
       "      <td>Mitchell</td>\n",
       "      <td>850</td>\n",
       "      <td>Spain</td>\n",
       "      <td>Female</td>\n",
       "      <td>43</td>\n",
       "      <td>2</td>\n",
       "      <td>125510.82</td>\n",
       "      <td>1</td>\n",
       "      <td>1</td>\n",
       "      <td>1</td>\n",
       "      <td>79084.10</td>\n",
       "      <td>0</td>\n",
       "    </tr>\n",
       "  </tbody>\n",
       "</table>\n",
       "</div>"
      ],
      "text/plain": [
       "   RowNumber  CustomerId   Surname  CreditScore Geography  Gender  Age  \\\n",
       "0          1    15634602  Hargrave          619    France  Female   42   \n",
       "1          2    15647311      Hill          608     Spain  Female   41   \n",
       "2          3    15619304      Onio          502    France  Female   42   \n",
       "3          4    15701354      Boni          699    France  Female   39   \n",
       "4          5    15737888  Mitchell          850     Spain  Female   43   \n",
       "\n",
       "   Tenure    Balance  NumOfProducts  HasCrCard  IsActiveMember  \\\n",
       "0       2       0.00              1          1               1   \n",
       "1       1   83807.86              1          0               1   \n",
       "2       8  159660.80              3          1               0   \n",
       "3       1       0.00              2          0               0   \n",
       "4       2  125510.82              1          1               1   \n",
       "\n",
       "   EstimatedSalary  Exited  \n",
       "0        101348.88       1  \n",
       "1        112542.58       0  \n",
       "2        113931.57       1  \n",
       "3         93826.63       0  \n",
       "4         79084.10       0  "
      ]
     },
     "execution_count": 2,
     "metadata": {},
     "output_type": "execute_result"
    }
   ],
   "source": [
    "bank = pd.read_csv('/kaggle/input/bank-customer-churn-prediction/Churn_Modelling.csv')\n",
    "bank.head()"
   ]
  },
  {
   "cell_type": "markdown",
   "id": "a46c88c0",
   "metadata": {
    "papermill": {
     "duration": 0.010841,
     "end_time": "2023-11-27T16:19:11.717320",
     "exception": false,
     "start_time": "2023-11-27T16:19:11.706479",
     "status": "completed"
    },
    "tags": []
   },
   "source": [
    "# **EDA**"
   ]
  },
  {
   "cell_type": "code",
   "execution_count": 3,
   "id": "e0aa3b00",
   "metadata": {
    "execution": {
     "iopub.execute_input": "2023-11-27T16:19:11.741916Z",
     "iopub.status.busy": "2023-11-27T16:19:11.741508Z",
     "iopub.status.idle": "2023-11-27T16:19:11.775766Z",
     "shell.execute_reply": "2023-11-27T16:19:11.774601Z"
    },
    "papermill": {
     "duration": 0.050088,
     "end_time": "2023-11-27T16:19:11.778727",
     "exception": false,
     "start_time": "2023-11-27T16:19:11.728639",
     "status": "completed"
    },
    "tags": []
   },
   "outputs": [
    {
     "name": "stdout",
     "output_type": "stream",
     "text": [
      "<class 'pandas.core.frame.DataFrame'>\n",
      "RangeIndex: 10000 entries, 0 to 9999\n",
      "Data columns (total 14 columns):\n",
      " #   Column           Non-Null Count  Dtype  \n",
      "---  ------           --------------  -----  \n",
      " 0   RowNumber        10000 non-null  int64  \n",
      " 1   CustomerId       10000 non-null  int64  \n",
      " 2   Surname          10000 non-null  object \n",
      " 3   CreditScore      10000 non-null  int64  \n",
      " 4   Geography        10000 non-null  object \n",
      " 5   Gender           10000 non-null  object \n",
      " 6   Age              10000 non-null  int64  \n",
      " 7   Tenure           10000 non-null  int64  \n",
      " 8   Balance          10000 non-null  float64\n",
      " 9   NumOfProducts    10000 non-null  int64  \n",
      " 10  HasCrCard        10000 non-null  int64  \n",
      " 11  IsActiveMember   10000 non-null  int64  \n",
      " 12  EstimatedSalary  10000 non-null  float64\n",
      " 13  Exited           10000 non-null  int64  \n",
      "dtypes: float64(2), int64(9), object(3)\n",
      "memory usage: 1.1+ MB\n"
     ]
    }
   ],
   "source": [
    "bank.info()"
   ]
  },
  {
   "cell_type": "code",
   "execution_count": 4,
   "id": "456b9e66",
   "metadata": {
    "execution": {
     "iopub.execute_input": "2023-11-27T16:19:11.804479Z",
     "iopub.status.busy": "2023-11-27T16:19:11.804057Z",
     "iopub.status.idle": "2023-11-27T16:19:11.854940Z",
     "shell.execute_reply": "2023-11-27T16:19:11.853538Z"
    },
    "papermill": {
     "duration": 0.068053,
     "end_time": "2023-11-27T16:19:11.858627",
     "exception": false,
     "start_time": "2023-11-27T16:19:11.790574",
     "status": "completed"
    },
    "tags": []
   },
   "outputs": [
    {
     "data": {
      "text/html": [
       "<div>\n",
       "<style scoped>\n",
       "    .dataframe tbody tr th:only-of-type {\n",
       "        vertical-align: middle;\n",
       "    }\n",
       "\n",
       "    .dataframe tbody tr th {\n",
       "        vertical-align: top;\n",
       "    }\n",
       "\n",
       "    .dataframe thead th {\n",
       "        text-align: right;\n",
       "    }\n",
       "</style>\n",
       "<table border=\"1\" class=\"dataframe\">\n",
       "  <thead>\n",
       "    <tr style=\"text-align: right;\">\n",
       "      <th></th>\n",
       "      <th>RowNumber</th>\n",
       "      <th>CustomerId</th>\n",
       "      <th>CreditScore</th>\n",
       "      <th>Age</th>\n",
       "      <th>Tenure</th>\n",
       "      <th>Balance</th>\n",
       "      <th>NumOfProducts</th>\n",
       "      <th>HasCrCard</th>\n",
       "      <th>IsActiveMember</th>\n",
       "      <th>EstimatedSalary</th>\n",
       "      <th>Exited</th>\n",
       "    </tr>\n",
       "  </thead>\n",
       "  <tbody>\n",
       "    <tr>\n",
       "      <th>count</th>\n",
       "      <td>10000.00000</td>\n",
       "      <td>1.000000e+04</td>\n",
       "      <td>10000.000000</td>\n",
       "      <td>10000.000000</td>\n",
       "      <td>10000.000000</td>\n",
       "      <td>10000.000000</td>\n",
       "      <td>10000.000000</td>\n",
       "      <td>10000.00000</td>\n",
       "      <td>10000.000000</td>\n",
       "      <td>10000.000000</td>\n",
       "      <td>10000.000000</td>\n",
       "    </tr>\n",
       "    <tr>\n",
       "      <th>mean</th>\n",
       "      <td>5000.50000</td>\n",
       "      <td>1.569094e+07</td>\n",
       "      <td>650.528800</td>\n",
       "      <td>38.921800</td>\n",
       "      <td>5.012800</td>\n",
       "      <td>76485.889288</td>\n",
       "      <td>1.530200</td>\n",
       "      <td>0.70550</td>\n",
       "      <td>0.515100</td>\n",
       "      <td>100090.239881</td>\n",
       "      <td>0.203700</td>\n",
       "    </tr>\n",
       "    <tr>\n",
       "      <th>std</th>\n",
       "      <td>2886.89568</td>\n",
       "      <td>7.193619e+04</td>\n",
       "      <td>96.653299</td>\n",
       "      <td>10.487806</td>\n",
       "      <td>2.892174</td>\n",
       "      <td>62397.405202</td>\n",
       "      <td>0.581654</td>\n",
       "      <td>0.45584</td>\n",
       "      <td>0.499797</td>\n",
       "      <td>57510.492818</td>\n",
       "      <td>0.402769</td>\n",
       "    </tr>\n",
       "    <tr>\n",
       "      <th>min</th>\n",
       "      <td>1.00000</td>\n",
       "      <td>1.556570e+07</td>\n",
       "      <td>350.000000</td>\n",
       "      <td>18.000000</td>\n",
       "      <td>0.000000</td>\n",
       "      <td>0.000000</td>\n",
       "      <td>1.000000</td>\n",
       "      <td>0.00000</td>\n",
       "      <td>0.000000</td>\n",
       "      <td>11.580000</td>\n",
       "      <td>0.000000</td>\n",
       "    </tr>\n",
       "    <tr>\n",
       "      <th>25%</th>\n",
       "      <td>2500.75000</td>\n",
       "      <td>1.562853e+07</td>\n",
       "      <td>584.000000</td>\n",
       "      <td>32.000000</td>\n",
       "      <td>3.000000</td>\n",
       "      <td>0.000000</td>\n",
       "      <td>1.000000</td>\n",
       "      <td>0.00000</td>\n",
       "      <td>0.000000</td>\n",
       "      <td>51002.110000</td>\n",
       "      <td>0.000000</td>\n",
       "    </tr>\n",
       "    <tr>\n",
       "      <th>50%</th>\n",
       "      <td>5000.50000</td>\n",
       "      <td>1.569074e+07</td>\n",
       "      <td>652.000000</td>\n",
       "      <td>37.000000</td>\n",
       "      <td>5.000000</td>\n",
       "      <td>97198.540000</td>\n",
       "      <td>1.000000</td>\n",
       "      <td>1.00000</td>\n",
       "      <td>1.000000</td>\n",
       "      <td>100193.915000</td>\n",
       "      <td>0.000000</td>\n",
       "    </tr>\n",
       "    <tr>\n",
       "      <th>75%</th>\n",
       "      <td>7500.25000</td>\n",
       "      <td>1.575323e+07</td>\n",
       "      <td>718.000000</td>\n",
       "      <td>44.000000</td>\n",
       "      <td>7.000000</td>\n",
       "      <td>127644.240000</td>\n",
       "      <td>2.000000</td>\n",
       "      <td>1.00000</td>\n",
       "      <td>1.000000</td>\n",
       "      <td>149388.247500</td>\n",
       "      <td>0.000000</td>\n",
       "    </tr>\n",
       "    <tr>\n",
       "      <th>max</th>\n",
       "      <td>10000.00000</td>\n",
       "      <td>1.581569e+07</td>\n",
       "      <td>850.000000</td>\n",
       "      <td>92.000000</td>\n",
       "      <td>10.000000</td>\n",
       "      <td>250898.090000</td>\n",
       "      <td>4.000000</td>\n",
       "      <td>1.00000</td>\n",
       "      <td>1.000000</td>\n",
       "      <td>199992.480000</td>\n",
       "      <td>1.000000</td>\n",
       "    </tr>\n",
       "  </tbody>\n",
       "</table>\n",
       "</div>"
      ],
      "text/plain": [
       "         RowNumber    CustomerId   CreditScore           Age        Tenure  \\\n",
       "count  10000.00000  1.000000e+04  10000.000000  10000.000000  10000.000000   \n",
       "mean    5000.50000  1.569094e+07    650.528800     38.921800      5.012800   \n",
       "std     2886.89568  7.193619e+04     96.653299     10.487806      2.892174   \n",
       "min        1.00000  1.556570e+07    350.000000     18.000000      0.000000   \n",
       "25%     2500.75000  1.562853e+07    584.000000     32.000000      3.000000   \n",
       "50%     5000.50000  1.569074e+07    652.000000     37.000000      5.000000   \n",
       "75%     7500.25000  1.575323e+07    718.000000     44.000000      7.000000   \n",
       "max    10000.00000  1.581569e+07    850.000000     92.000000     10.000000   \n",
       "\n",
       "             Balance  NumOfProducts    HasCrCard  IsActiveMember  \\\n",
       "count   10000.000000   10000.000000  10000.00000    10000.000000   \n",
       "mean    76485.889288       1.530200      0.70550        0.515100   \n",
       "std     62397.405202       0.581654      0.45584        0.499797   \n",
       "min         0.000000       1.000000      0.00000        0.000000   \n",
       "25%         0.000000       1.000000      0.00000        0.000000   \n",
       "50%     97198.540000       1.000000      1.00000        1.000000   \n",
       "75%    127644.240000       2.000000      1.00000        1.000000   \n",
       "max    250898.090000       4.000000      1.00000        1.000000   \n",
       "\n",
       "       EstimatedSalary        Exited  \n",
       "count     10000.000000  10000.000000  \n",
       "mean     100090.239881      0.203700  \n",
       "std       57510.492818      0.402769  \n",
       "min          11.580000      0.000000  \n",
       "25%       51002.110000      0.000000  \n",
       "50%      100193.915000      0.000000  \n",
       "75%      149388.247500      0.000000  \n",
       "max      199992.480000      1.000000  "
      ]
     },
     "execution_count": 4,
     "metadata": {},
     "output_type": "execute_result"
    }
   ],
   "source": [
    "bank.describe()"
   ]
  },
  {
   "cell_type": "code",
   "execution_count": 5,
   "id": "9a82849d",
   "metadata": {
    "execution": {
     "iopub.execute_input": "2023-11-27T16:19:11.886346Z",
     "iopub.status.busy": "2023-11-27T16:19:11.885113Z",
     "iopub.status.idle": "2023-11-27T16:19:11.900198Z",
     "shell.execute_reply": "2023-11-27T16:19:11.898957Z"
    },
    "papermill": {
     "duration": 0.031809,
     "end_time": "2023-11-27T16:19:11.902892",
     "exception": false,
     "start_time": "2023-11-27T16:19:11.871083",
     "status": "completed"
    },
    "tags": []
   },
   "outputs": [
    {
     "data": {
      "text/plain": [
       "RowNumber          0\n",
       "CustomerId         0\n",
       "Surname            0\n",
       "CreditScore        0\n",
       "Geography          0\n",
       "Gender             0\n",
       "Age                0\n",
       "Tenure             0\n",
       "Balance            0\n",
       "NumOfProducts      0\n",
       "HasCrCard          0\n",
       "IsActiveMember     0\n",
       "EstimatedSalary    0\n",
       "Exited             0\n",
       "dtype: int64"
      ]
     },
     "execution_count": 5,
     "metadata": {},
     "output_type": "execute_result"
    }
   ],
   "source": [
    "bank.isnull().sum()"
   ]
  },
  {
   "cell_type": "code",
   "execution_count": 6,
   "id": "ed903ea9",
   "metadata": {
    "execution": {
     "iopub.execute_input": "2023-11-27T16:19:11.930229Z",
     "iopub.status.busy": "2023-11-27T16:19:11.929259Z",
     "iopub.status.idle": "2023-11-27T16:19:11.950232Z",
     "shell.execute_reply": "2023-11-27T16:19:11.949042Z"
    },
    "papermill": {
     "duration": 0.037916,
     "end_time": "2023-11-27T16:19:11.953376",
     "exception": false,
     "start_time": "2023-11-27T16:19:11.915460",
     "status": "completed"
    },
    "tags": []
   },
   "outputs": [
    {
     "data": {
      "text/plain": [
       "0       False\n",
       "1       False\n",
       "2       False\n",
       "3       False\n",
       "4       False\n",
       "        ...  \n",
       "9995    False\n",
       "9996    False\n",
       "9997    False\n",
       "9998    False\n",
       "9999    False\n",
       "Length: 10000, dtype: bool"
      ]
     },
     "execution_count": 6,
     "metadata": {},
     "output_type": "execute_result"
    }
   ],
   "source": [
    "bank.duplicated()"
   ]
  },
  {
   "cell_type": "markdown",
   "id": "217a3680",
   "metadata": {
    "papermill": {
     "duration": 0.012167,
     "end_time": "2023-11-27T16:19:11.978390",
     "exception": false,
     "start_time": "2023-11-27T16:19:11.966223",
     "status": "completed"
    },
    "tags": []
   },
   "source": [
    "NO NULL AND DUPLICATED VALUES IN THIS DATASET"
   ]
  },
  {
   "cell_type": "code",
   "execution_count": 7,
   "id": "2830596d",
   "metadata": {
    "execution": {
     "iopub.execute_input": "2023-11-27T16:19:12.006371Z",
     "iopub.status.busy": "2023-11-27T16:19:12.005930Z",
     "iopub.status.idle": "2023-11-27T16:19:12.029182Z",
     "shell.execute_reply": "2023-11-27T16:19:12.028034Z"
    },
    "papermill": {
     "duration": 0.040778,
     "end_time": "2023-11-27T16:19:12.031791",
     "exception": false,
     "start_time": "2023-11-27T16:19:11.991013",
     "status": "completed"
    },
    "tags": []
   },
   "outputs": [
    {
     "data": {
      "text/html": [
       "<div>\n",
       "<style scoped>\n",
       "    .dataframe tbody tr th:only-of-type {\n",
       "        vertical-align: middle;\n",
       "    }\n",
       "\n",
       "    .dataframe tbody tr th {\n",
       "        vertical-align: top;\n",
       "    }\n",
       "\n",
       "    .dataframe thead th {\n",
       "        text-align: right;\n",
       "    }\n",
       "</style>\n",
       "<table border=\"1\" class=\"dataframe\">\n",
       "  <thead>\n",
       "    <tr style=\"text-align: right;\">\n",
       "      <th></th>\n",
       "      <th>CreditScore</th>\n",
       "      <th>Geography</th>\n",
       "      <th>Gender</th>\n",
       "      <th>Age</th>\n",
       "      <th>Tenure</th>\n",
       "      <th>Balance</th>\n",
       "      <th>NumOfProducts</th>\n",
       "      <th>HasCrCard</th>\n",
       "      <th>IsActiveMember</th>\n",
       "      <th>EstimatedSalary</th>\n",
       "      <th>Exited</th>\n",
       "    </tr>\n",
       "  </thead>\n",
       "  <tbody>\n",
       "    <tr>\n",
       "      <th>0</th>\n",
       "      <td>619</td>\n",
       "      <td>France</td>\n",
       "      <td>Female</td>\n",
       "      <td>42</td>\n",
       "      <td>2</td>\n",
       "      <td>0.00</td>\n",
       "      <td>1</td>\n",
       "      <td>1</td>\n",
       "      <td>1</td>\n",
       "      <td>101348.88</td>\n",
       "      <td>1</td>\n",
       "    </tr>\n",
       "    <tr>\n",
       "      <th>1</th>\n",
       "      <td>608</td>\n",
       "      <td>Spain</td>\n",
       "      <td>Female</td>\n",
       "      <td>41</td>\n",
       "      <td>1</td>\n",
       "      <td>83807.86</td>\n",
       "      <td>1</td>\n",
       "      <td>0</td>\n",
       "      <td>1</td>\n",
       "      <td>112542.58</td>\n",
       "      <td>0</td>\n",
       "    </tr>\n",
       "    <tr>\n",
       "      <th>2</th>\n",
       "      <td>502</td>\n",
       "      <td>France</td>\n",
       "      <td>Female</td>\n",
       "      <td>42</td>\n",
       "      <td>8</td>\n",
       "      <td>159660.80</td>\n",
       "      <td>3</td>\n",
       "      <td>1</td>\n",
       "      <td>0</td>\n",
       "      <td>113931.57</td>\n",
       "      <td>1</td>\n",
       "    </tr>\n",
       "    <tr>\n",
       "      <th>3</th>\n",
       "      <td>699</td>\n",
       "      <td>France</td>\n",
       "      <td>Female</td>\n",
       "      <td>39</td>\n",
       "      <td>1</td>\n",
       "      <td>0.00</td>\n",
       "      <td>2</td>\n",
       "      <td>0</td>\n",
       "      <td>0</td>\n",
       "      <td>93826.63</td>\n",
       "      <td>0</td>\n",
       "    </tr>\n",
       "    <tr>\n",
       "      <th>4</th>\n",
       "      <td>850</td>\n",
       "      <td>Spain</td>\n",
       "      <td>Female</td>\n",
       "      <td>43</td>\n",
       "      <td>2</td>\n",
       "      <td>125510.82</td>\n",
       "      <td>1</td>\n",
       "      <td>1</td>\n",
       "      <td>1</td>\n",
       "      <td>79084.10</td>\n",
       "      <td>0</td>\n",
       "    </tr>\n",
       "  </tbody>\n",
       "</table>\n",
       "</div>"
      ],
      "text/plain": [
       "   CreditScore Geography  Gender  Age  Tenure    Balance  NumOfProducts  \\\n",
       "0          619    France  Female   42       2       0.00              1   \n",
       "1          608     Spain  Female   41       1   83807.86              1   \n",
       "2          502    France  Female   42       8  159660.80              3   \n",
       "3          699    France  Female   39       1       0.00              2   \n",
       "4          850     Spain  Female   43       2  125510.82              1   \n",
       "\n",
       "   HasCrCard  IsActiveMember  EstimatedSalary  Exited  \n",
       "0          1               1        101348.88       1  \n",
       "1          0               1        112542.58       0  \n",
       "2          1               0        113931.57       1  \n",
       "3          0               0         93826.63       0  \n",
       "4          1               1         79084.10       0  "
      ]
     },
     "execution_count": 7,
     "metadata": {},
     "output_type": "execute_result"
    }
   ],
   "source": [
    "bank.drop(['CustomerId','RowNumber','Surname'],axis=1,inplace=True)\n",
    "bank.head()"
   ]
  },
  {
   "cell_type": "markdown",
   "id": "df89c798",
   "metadata": {
    "papermill": {
     "duration": 0.012632,
     "end_time": "2023-11-27T16:19:12.057080",
     "exception": false,
     "start_time": "2023-11-27T16:19:12.044448",
     "status": "completed"
    },
    "tags": []
   },
   "source": [
    "Removing RowNumber,CustomerId and Surname as it can make the dataset noisy"
   ]
  },
  {
   "cell_type": "code",
   "execution_count": 8,
   "id": "ef869109",
   "metadata": {
    "execution": {
     "iopub.execute_input": "2023-11-27T16:19:12.084929Z",
     "iopub.status.busy": "2023-11-27T16:19:12.084492Z",
     "iopub.status.idle": "2023-11-27T16:19:13.630372Z",
     "shell.execute_reply": "2023-11-27T16:19:13.628947Z"
    },
    "papermill": {
     "duration": 1.563341,
     "end_time": "2023-11-27T16:19:13.633354",
     "exception": false,
     "start_time": "2023-11-27T16:19:12.070013",
     "status": "completed"
    },
    "tags": []
   },
   "outputs": [],
   "source": [
    "import seaborn as sns\n",
    "import matplotlib.pyplot as plt"
   ]
  },
  {
   "cell_type": "code",
   "execution_count": 9,
   "id": "f394b4bb",
   "metadata": {
    "execution": {
     "iopub.execute_input": "2023-11-27T16:19:13.661571Z",
     "iopub.status.busy": "2023-11-27T16:19:13.661080Z",
     "iopub.status.idle": "2023-11-27T16:19:14.216288Z",
     "shell.execute_reply": "2023-11-27T16:19:14.214682Z"
    },
    "papermill": {
     "duration": 0.57305,
     "end_time": "2023-11-27T16:19:14.219424",
     "exception": false,
     "start_time": "2023-11-27T16:19:13.646374",
     "status": "completed"
    },
    "tags": []
   },
   "outputs": [
    {
     "data": {
      "image/png": "[encoded data removed]",
      "text/plain": [
       "<Figure size 1500x800 with 1 Axes>"
      ]
     },
     "metadata": {},
     "output_type": "display_data"
    }
   ],
   "source": [
    "#Checking for outliers\n",
    "\n",
    "plt.figure(figsize=(15,8))\n",
    "sns.boxplot(data=bank)\n",
    "plt.show()"
   ]
  },
  {
   "cell_type": "code",
   "execution_count": 10,
   "id": "ae391ccb",
   "metadata": {
    "execution": {
     "iopub.execute_input": "2023-11-27T16:19:14.248412Z",
     "iopub.status.busy": "2023-11-27T16:19:14.247947Z",
     "iopub.status.idle": "2023-11-27T16:19:14.512836Z",
     "shell.execute_reply": "2023-11-27T16:19:14.511425Z"
    },
    "papermill": {
     "duration": 0.28291,
     "end_time": "2023-11-27T16:19:14.515717",
     "exception": false,
     "start_time": "2023-11-27T16:19:14.232807",
     "status": "completed"
    },
    "tags": []
   },
   "outputs": [
    {
     "data": {
      "text/plain": [
       "<Axes: xlabel='Exited', ylabel='count'>"
      ]
     },
     "execution_count": 10,
     "metadata": {},
     "output_type": "execute_result"
    },
    {
     "data": {
      "image/png": "[encoded data removed]",
      "text/plain": [
       "<Figure size 640x480 with 1 Axes>"
      ]
     },
     "metadata": {},
     "output_type": "display_data"
    }
   ],
   "source": [
    "#plt.figure(figsize=(15,5))\n",
    "sns.countplot(data=bank,x='Exited')"
   ]
  },
  {
   "cell_type": "markdown",
   "id": "ae62e1cc",
   "metadata": {
    "papermill": {
     "duration": 0.013555,
     "end_time": "2023-11-27T16:19:14.543337",
     "exception": false,
     "start_time": "2023-11-27T16:19:14.529782",
     "status": "completed"
    },
    "tags": []
   },
   "source": [
    "This Visualization of Exited tells us that most of the customer have stayed"
   ]
  },
  {
   "cell_type": "code",
   "execution_count": 11,
   "id": "ec81bb6d",
   "metadata": {
    "execution": {
     "iopub.execute_input": "2023-11-27T16:19:14.573930Z",
     "iopub.status.busy": "2023-11-27T16:19:14.573462Z",
     "iopub.status.idle": "2023-11-27T16:19:14.815525Z",
     "shell.execute_reply": "2023-11-27T16:19:14.813936Z"
    },
    "papermill": {
     "duration": 0.261293,
     "end_time": "2023-11-27T16:19:14.818674",
     "exception": false,
     "start_time": "2023-11-27T16:19:14.557381",
     "status": "completed"
    },
    "tags": []
   },
   "outputs": [
    {
     "data": {
      "text/plain": [
       "<Axes: xlabel='IsActiveMember', ylabel='count'>"
      ]
     },
     "execution_count": 11,
     "metadata": {},
     "output_type": "execute_result"
    },
    {
     "data": {
      "image/png": "[encoded data removed]",
      "text/plain": [
       "<Figure size 640x480 with 1 Axes>"
      ]
     },
     "metadata": {},
     "output_type": "display_data"
    }
   ],
   "source": [
    "sns.countplot(data=bank,x='IsActiveMember')"
   ]
  },
  {
   "cell_type": "markdown",
   "id": "59b70ea3",
   "metadata": {
    "papermill": {
     "duration": 0.014444,
     "end_time": "2023-11-27T16:19:14.847642",
     "exception": false,
     "start_time": "2023-11-27T16:19:14.833198",
     "status": "completed"
    },
    "tags": []
   },
   "source": [
    "Some of them are active members"
   ]
  },
  {
   "cell_type": "code",
   "execution_count": 12,
   "id": "acca4e7e",
   "metadata": {
    "execution": {
     "iopub.execute_input": "2023-11-27T16:19:14.879448Z",
     "iopub.status.busy": "2023-11-27T16:19:14.878293Z",
     "iopub.status.idle": "2023-11-27T16:19:15.134038Z",
     "shell.execute_reply": "2023-11-27T16:19:15.132532Z"
    },
    "papermill": {
     "duration": 0.275214,
     "end_time": "2023-11-27T16:19:15.137394",
     "exception": false,
     "start_time": "2023-11-27T16:19:14.862180",
     "status": "completed"
    },
    "tags": []
   },
   "outputs": [
    {
     "data": {
      "text/plain": [
       "<Axes: xlabel='HasCrCard', ylabel='count'>"
      ]
     },
     "execution_count": 12,
     "metadata": {},
     "output_type": "execute_result"
    },
    {
     "data": {
      "image/png": "[encoded data removed]",
      "text/plain": [
       "<Figure size 640x480 with 1 Axes>"
      ]
     },
     "metadata": {},
     "output_type": "display_data"
    }
   ],
   "source": [
    "sns.countplot(data=bank,x='HasCrCard')"
   ]
  },
  {
   "cell_type": "markdown",
   "id": "1bc8a6c5",
   "metadata": {
    "papermill": {
     "duration": 0.015704,
     "end_time": "2023-11-27T16:19:15.168960",
     "exception": false,
     "start_time": "2023-11-27T16:19:15.153256",
     "status": "completed"
    },
    "tags": []
   },
   "source": [
    "most of the customers have Credit Card available"
   ]
  },
  {
   "cell_type": "code",
   "execution_count": 13,
   "id": "0557b8e7",
   "metadata": {
    "execution": {
     "iopub.execute_input": "2023-11-27T16:19:15.202594Z",
     "iopub.status.busy": "2023-11-27T16:19:15.202195Z",
     "iopub.status.idle": "2023-11-27T16:19:15.451117Z",
     "shell.execute_reply": "2023-11-27T16:19:15.449586Z"
    },
    "papermill": {
     "duration": 0.269665,
     "end_time": "2023-11-27T16:19:15.454579",
     "exception": false,
     "start_time": "2023-11-27T16:19:15.184914",
     "status": "completed"
    },
    "tags": []
   },
   "outputs": [
    {
     "data": {
      "text/plain": [
       "<Axes: xlabel='Gender', ylabel='count'>"
      ]
     },
     "execution_count": 13,
     "metadata": {},
     "output_type": "execute_result"
    },
    {
     "data": {
      "image/png": "[encoded data removed]",
      "text/plain": [
       "<Figure size 640x480 with 1 Axes>"
      ]
     },
     "metadata": {},
     "output_type": "display_data"
    }
   ],
   "source": [
    "sns.countplot(data=bank,x='Gender')"
   ]
  },
  {
   "cell_type": "markdown",
   "id": "979bb350",
   "metadata": {
    "papermill": {
     "duration": 0.015651,
     "end_time": "2023-11-27T16:19:15.486373",
     "exception": false,
     "start_time": "2023-11-27T16:19:15.470722",
     "status": "completed"
    },
    "tags": []
   },
   "source": [
    "Most of the male use Bank because females are ☕"
   ]
  },
  {
   "cell_type": "code",
   "execution_count": 14,
   "id": "2f0cf042",
   "metadata": {
    "execution": {
     "iopub.execute_input": "2023-11-27T16:19:15.518848Z",
     "iopub.status.busy": "2023-11-27T16:19:15.518455Z",
     "iopub.status.idle": "2023-11-27T16:19:15.806818Z",
     "shell.execute_reply": "2023-11-27T16:19:15.804826Z"
    },
    "papermill": {
     "duration": 0.310389,
     "end_time": "2023-11-27T16:19:15.811934",
     "exception": false,
     "start_time": "2023-11-27T16:19:15.501545",
     "status": "completed"
    },
    "tags": []
   },
   "outputs": [
    {
     "data": {
      "text/plain": [
       "<Axes: xlabel='Geography', ylabel='count'>"
      ]
     },
     "execution_count": 14,
     "metadata": {},
     "output_type": "execute_result"
    },
    {
     "data": {
      "image/png": "[encoded data removed]",
      "text/plain": [
       "<Figure size 640x480 with 1 Axes>"
      ]
     },
     "metadata": {},
     "output_type": "display_data"
    }
   ],
   "source": [
    "sns.countplot(data=bank,x='Geography')"
   ]
  },
  {
   "cell_type": "markdown",
   "id": "fe5973c4",
   "metadata": {
    "papermill": {
     "duration": 0.023171,
     "end_time": "2023-11-27T16:19:15.858223",
     "exception": false,
     "start_time": "2023-11-27T16:19:15.835052",
     "status": "completed"
    },
    "tags": []
   },
   "source": [
    "French Customers use more Banks than Spain and Germany"
   ]
  },
  {
   "cell_type": "code",
   "execution_count": 15,
   "id": "beaba3ff",
   "metadata": {
    "execution": {
     "iopub.execute_input": "2023-11-27T16:19:15.894733Z",
     "iopub.status.busy": "2023-11-27T16:19:15.894324Z",
     "iopub.status.idle": "2023-11-27T16:19:16.158530Z",
     "shell.execute_reply": "2023-11-27T16:19:16.157261Z"
    },
    "papermill": {
     "duration": 0.284039,
     "end_time": "2023-11-27T16:19:16.161336",
     "exception": false,
     "start_time": "2023-11-27T16:19:15.877297",
     "status": "completed"
    },
    "tags": []
   },
   "outputs": [
    {
     "data": {
      "text/plain": [
       "<Axes: xlabel='NumOfProducts', ylabel='count'>"
      ]
     },
     "execution_count": 15,
     "metadata": {},
     "output_type": "execute_result"
    },
    {
     "data": {
      "image/png": "[encoded data removed]",
      "text/plain": [
       "<Figure size 640x480 with 1 Axes>"
      ]
     },
     "metadata": {},
     "output_type": "display_data"
    }
   ],
   "source": [
    "sns.countplot(data=bank,x='NumOfProducts')"
   ]
  },
  {
   "cell_type": "markdown",
   "id": "a4fc2cfe",
   "metadata": {
    "papermill": {
     "duration": 0.113373,
     "end_time": "2023-11-27T16:19:16.292220",
     "exception": false,
     "start_time": "2023-11-27T16:19:16.178847",
     "status": "completed"
    },
    "tags": []
   },
   "source": [
    "Most of the peoples only take 1 num of product"
   ]
  },
  {
   "cell_type": "code",
   "execution_count": 16,
   "id": "a4a2dfe6",
   "metadata": {
    "execution": {
     "iopub.execute_input": "2023-11-27T16:19:16.327706Z",
     "iopub.status.busy": "2023-11-27T16:19:16.327268Z",
     "iopub.status.idle": "2023-11-27T16:19:16.335740Z",
     "shell.execute_reply": "2023-11-27T16:19:16.334800Z"
    },
    "papermill": {
     "duration": 0.028986,
     "end_time": "2023-11-27T16:19:16.338084",
     "exception": false,
     "start_time": "2023-11-27T16:19:16.309098",
     "status": "completed"
    },
    "tags": []
   },
   "outputs": [
    {
     "data": {
      "text/plain": [
       "Exited\n",
       "0    7963\n",
       "1    2037\n",
       "Name: count, dtype: int64"
      ]
     },
     "execution_count": 16,
     "metadata": {},
     "output_type": "execute_result"
    }
   ],
   "source": [
    "bank['Exited'].value_counts()"
   ]
  },
  {
   "cell_type": "code",
   "execution_count": 17,
   "id": "1ca0f725",
   "metadata": {
    "execution": {
     "iopub.execute_input": "2023-11-27T16:19:16.374450Z",
     "iopub.status.busy": "2023-11-27T16:19:16.373561Z",
     "iopub.status.idle": "2023-11-27T16:19:16.378985Z",
     "shell.execute_reply": "2023-11-27T16:19:16.378000Z"
    },
    "papermill": {
     "duration": 0.026016,
     "end_time": "2023-11-27T16:19:16.381283",
     "exception": false,
     "start_time": "2023-11-27T16:19:16.355267",
     "status": "completed"
    },
    "tags": []
   },
   "outputs": [],
   "source": [
    "#Now doing Upsampling\n",
    "\n",
    "#class_1_upsampled = resample(class_1, replace=True, n_samples=len(class_0), random_state=42)\n",
    "\n",
    "#upsampled_data = pd.concat([class_0, class_1_upsampled])"
   ]
  },
  {
   "cell_type": "code",
   "execution_count": 18,
   "id": "7a7ccf54",
   "metadata": {
    "execution": {
     "iopub.execute_input": "2023-11-27T16:19:16.417906Z",
     "iopub.status.busy": "2023-11-27T16:19:16.416694Z",
     "iopub.status.idle": "2023-11-27T16:19:16.423066Z",
     "shell.execute_reply": "2023-11-27T16:19:16.421462Z"
    },
    "papermill": {
     "duration": 0.027835,
     "end_time": "2023-11-27T16:19:16.426206",
     "exception": false,
     "start_time": "2023-11-27T16:19:16.398371",
     "status": "completed"
    },
    "tags": []
   },
   "outputs": [],
   "source": [
    "#upsampled_data['Exited'].value_counts()"
   ]
  },
  {
   "cell_type": "code",
   "execution_count": 19,
   "id": "3cec6e5d",
   "metadata": {
    "execution": {
     "iopub.execute_input": "2023-11-27T16:19:16.463376Z",
     "iopub.status.busy": "2023-11-27T16:19:16.462644Z",
     "iopub.status.idle": "2023-11-27T16:19:16.680198Z",
     "shell.execute_reply": "2023-11-27T16:19:16.679266Z"
    },
    "papermill": {
     "duration": 0.239072,
     "end_time": "2023-11-27T16:19:16.682874",
     "exception": false,
     "start_time": "2023-11-27T16:19:16.443802",
     "status": "completed"
    },
    "tags": []
   },
   "outputs": [
    {
     "data": {
      "text/html": [
       "<div>\n",
       "<style scoped>\n",
       "    .dataframe tbody tr th:only-of-type {\n",
       "        vertical-align: middle;\n",
       "    }\n",
       "\n",
       "    .dataframe tbody tr th {\n",
       "        vertical-align: top;\n",
       "    }\n",
       "\n",
       "    .dataframe thead th {\n",
       "        text-align: right;\n",
       "    }\n",
       "</style>\n",
       "<table border=\"1\" class=\"dataframe\">\n",
       "  <thead>\n",
       "    <tr style=\"text-align: right;\">\n",
       "      <th></th>\n",
       "      <th>CreditScore</th>\n",
       "      <th>Geography</th>\n",
       "      <th>Gender</th>\n",
       "      <th>Age</th>\n",
       "      <th>Tenure</th>\n",
       "      <th>Balance</th>\n",
       "      <th>NumOfProducts</th>\n",
       "      <th>HasCrCard</th>\n",
       "      <th>IsActiveMember</th>\n",
       "      <th>EstimatedSalary</th>\n",
       "      <th>Exited</th>\n",
       "    </tr>\n",
       "  </thead>\n",
       "  <tbody>\n",
       "    <tr>\n",
       "      <th>0</th>\n",
       "      <td>619</td>\n",
       "      <td>0</td>\n",
       "      <td>0</td>\n",
       "      <td>42</td>\n",
       "      <td>2</td>\n",
       "      <td>0.00</td>\n",
       "      <td>1</td>\n",
       "      <td>1</td>\n",
       "      <td>1</td>\n",
       "      <td>101348.88</td>\n",
       "      <td>1</td>\n",
       "    </tr>\n",
       "    <tr>\n",
       "      <th>1</th>\n",
       "      <td>608</td>\n",
       "      <td>2</td>\n",
       "      <td>0</td>\n",
       "      <td>41</td>\n",
       "      <td>1</td>\n",
       "      <td>83807.86</td>\n",
       "      <td>1</td>\n",
       "      <td>0</td>\n",
       "      <td>1</td>\n",
       "      <td>112542.58</td>\n",
       "      <td>0</td>\n",
       "    </tr>\n",
       "    <tr>\n",
       "      <th>2</th>\n",
       "      <td>502</td>\n",
       "      <td>0</td>\n",
       "      <td>0</td>\n",
       "      <td>42</td>\n",
       "      <td>8</td>\n",
       "      <td>159660.80</td>\n",
       "      <td>3</td>\n",
       "      <td>1</td>\n",
       "      <td>0</td>\n",
       "      <td>113931.57</td>\n",
       "      <td>1</td>\n",
       "    </tr>\n",
       "    <tr>\n",
       "      <th>3</th>\n",
       "      <td>699</td>\n",
       "      <td>0</td>\n",
       "      <td>0</td>\n",
       "      <td>39</td>\n",
       "      <td>1</td>\n",
       "      <td>0.00</td>\n",
       "      <td>2</td>\n",
       "      <td>0</td>\n",
       "      <td>0</td>\n",
       "      <td>93826.63</td>\n",
       "      <td>0</td>\n",
       "    </tr>\n",
       "    <tr>\n",
       "      <th>4</th>\n",
       "      <td>850</td>\n",
       "      <td>2</td>\n",
       "      <td>0</td>\n",
       "      <td>43</td>\n",
       "      <td>2</td>\n",
       "      <td>125510.82</td>\n",
       "      <td>1</td>\n",
       "      <td>1</td>\n",
       "      <td>1</td>\n",
       "      <td>79084.10</td>\n",
       "      <td>0</td>\n",
       "    </tr>\n",
       "  </tbody>\n",
       "</table>\n",
       "</div>"
      ],
      "text/plain": [
       "   CreditScore  Geography  Gender  Age  Tenure    Balance  NumOfProducts  \\\n",
       "0          619          0       0   42       2       0.00              1   \n",
       "1          608          2       0   41       1   83807.86              1   \n",
       "2          502          0       0   42       8  159660.80              3   \n",
       "3          699          0       0   39       1       0.00              2   \n",
       "4          850          2       0   43       2  125510.82              1   \n",
       "\n",
       "   HasCrCard  IsActiveMember  EstimatedSalary  Exited  \n",
       "0          1               1        101348.88       1  \n",
       "1          0               1        112542.58       0  \n",
       "2          1               0        113931.57       1  \n",
       "3          0               0         93826.63       0  \n",
       "4          1               1         79084.10       0  "
      ]
     },
     "execution_count": 19,
     "metadata": {},
     "output_type": "execute_result"
    }
   ],
   "source": [
    "from sklearn.preprocessing import LabelEncoder\n",
    "\n",
    "le=LabelEncoder()\n",
    "bank['Gender']=le.fit_transform(bank['Gender'])\n",
    "bank['Geography']=le.fit_transform(bank['Geography'])\n",
    "\n",
    "bank.head()"
   ]
  },
  {
   "cell_type": "markdown",
   "id": "ce273666",
   "metadata": {
    "papermill": {
     "duration": 0.018157,
     "end_time": "2023-11-27T16:19:16.719043",
     "exception": false,
     "start_time": "2023-11-27T16:19:16.700886",
     "status": "completed"
    },
    "tags": []
   },
   "source": [
    "The difference b/w Min and Max of both Balance and EstimatedSalary are bigger than expected thus we are doing scaling on it to make all the values in range of 0-1"
   ]
  },
  {
   "cell_type": "code",
   "execution_count": 20,
   "id": "606e8d39",
   "metadata": {
    "execution": {
     "iopub.execute_input": "2023-11-27T16:19:16.756784Z",
     "iopub.status.busy": "2023-11-27T16:19:16.755635Z",
     "iopub.status.idle": "2023-11-27T16:19:17.547920Z",
     "shell.execute_reply": "2023-11-27T16:19:17.546557Z"
    },
    "papermill": {
     "duration": 0.81486,
     "end_time": "2023-11-27T16:19:17.551264",
     "exception": false,
     "start_time": "2023-11-27T16:19:16.736404",
     "status": "completed"
    },
    "tags": []
   },
   "outputs": [
    {
     "data": {
      "image/png": "[encoded data removed]",
      "text/plain": [
       "<Figure size 1000x800 with 2 Axes>"
      ]
     },
     "metadata": {},
     "output_type": "display_data"
    }
   ],
   "source": [
    "correlation = bank.corr()\n",
    "plt.figure(figsize=(10, 8))\n",
    "sns.heatmap(correlation, annot=True, cmap='coolwarm', fmt=\".2f\", linewidths=.5)\n",
    "plt.title('Correlation Heatmap')\n",
    "plt.show()"
   ]
  },
  {
   "cell_type": "markdown",
   "id": "efaeeb4b",
   "metadata": {
    "papermill": {
     "duration": 0.019227,
     "end_time": "2023-11-27T16:19:17.590510",
     "exception": false,
     "start_time": "2023-11-27T16:19:17.571283",
     "status": "completed"
    },
    "tags": []
   },
   "source": [
    "# **Feature Selection**"
   ]
  },
  {
   "cell_type": "code",
   "execution_count": 21,
   "id": "f9f1821f",
   "metadata": {
    "execution": {
     "iopub.execute_input": "2023-11-27T16:19:17.631848Z",
     "iopub.status.busy": "2023-11-27T16:19:17.631392Z",
     "iopub.status.idle": "2023-11-27T16:19:17.644468Z",
     "shell.execute_reply": "2023-11-27T16:19:17.643535Z"
    },
    "papermill": {
     "duration": 0.036801,
     "end_time": "2023-11-27T16:19:17.646950",
     "exception": false,
     "start_time": "2023-11-27T16:19:17.610149",
     "status": "completed"
    },
    "tags": []
   },
   "outputs": [
    {
     "data": {
      "text/plain": [
       "CreditScore         460\n",
       "Geography             3\n",
       "Gender                2\n",
       "Age                  70\n",
       "Tenure               11\n",
       "Balance            6382\n",
       "NumOfProducts         4\n",
       "HasCrCard             2\n",
       "IsActiveMember        2\n",
       "EstimatedSalary    9999\n",
       "Exited                2\n",
       "dtype: int64"
      ]
     },
     "execution_count": 21,
     "metadata": {},
     "output_type": "execute_result"
    }
   ],
   "source": [
    "bank.nunique()"
   ]
  },
  {
   "cell_type": "markdown",
   "id": "3fbd1653",
   "metadata": {
    "papermill": {
     "duration": 0.019611,
     "end_time": "2023-11-27T16:19:17.686001",
     "exception": false,
     "start_time": "2023-11-27T16:19:17.666390",
     "status": "completed"
    },
    "tags": []
   },
   "source": [
    "Extracting the features which have few unique values"
   ]
  },
  {
   "cell_type": "code",
   "execution_count": 22,
   "id": "fe2c27a3",
   "metadata": {
    "execution": {
     "iopub.execute_input": "2023-11-27T16:19:17.727338Z",
     "iopub.status.busy": "2023-11-27T16:19:17.726587Z",
     "iopub.status.idle": "2023-11-27T16:19:18.898441Z",
     "shell.execute_reply": "2023-11-27T16:19:18.897206Z"
    },
    "papermill": {
     "duration": 1.196018,
     "end_time": "2023-11-27T16:19:18.901528",
     "exception": false,
     "start_time": "2023-11-27T16:19:17.705510",
     "status": "completed"
    },
    "tags": []
   },
   "outputs": [
    {
     "data": {
      "image/png": "[encoded data removed]",
      "text/plain": [
       "<Figure size 1200x600 with 1 Axes>"
      ]
     },
     "metadata": {},
     "output_type": "display_data"
    }
   ],
   "source": [
    "from sklearn.feature_selection import mutual_info_classif\n",
    "x = bank.drop('Exited', axis=1)\n",
    "y = bank['Exited']\n",
    "\n",
    "mutual_info_scores = mutual_info_classif(x, y)\n",
    "\n",
    "feature_info = pd.DataFrame({'Feature': x.columns, 'Mutual_Info_Score': mutual_info_scores})\n",
    "plt.figure(figsize = (12,6))\n",
    "sns.barplot(x='Mutual_Info_Score', y='Feature', data=feature_info, color='teal')\n",
    "plt.title('Mutual Information Scores for Features')\n",
    "plt.xlabel('Mutual Information Score')\n",
    "plt.ylabel('Feature')\n",
    "plt.show()"
   ]
  },
  {
   "cell_type": "code",
   "execution_count": 23,
   "id": "cc61488b",
   "metadata": {
    "execution": {
     "iopub.execute_input": "2023-11-27T16:19:18.946916Z",
     "iopub.status.busy": "2023-11-27T16:19:18.945440Z",
     "iopub.status.idle": "2023-11-27T16:19:18.958760Z",
     "shell.execute_reply": "2023-11-27T16:19:18.957040Z"
    },
    "papermill": {
     "duration": 0.039262,
     "end_time": "2023-11-27T16:19:18.961607",
     "exception": false,
     "start_time": "2023-11-27T16:19:18.922345",
     "status": "completed"
    },
    "tags": []
   },
   "outputs": [
    {
     "name": "stdout",
     "output_type": "stream",
     "text": [
      "          Feature  Mutual_Info_Score\n",
      "6   NumOfProducts           0.072169\n",
      "3             Age           0.069898\n",
      "8  IsActiveMember           0.019318\n",
      "2          Gender           0.009878\n",
      "1       Geography           0.008553\n",
      "5         Balance           0.006970\n"
     ]
    }
   ],
   "source": [
    "sorted_features = feature_info.sort_values(by='Mutual_Info_Score', ascending=False)\n",
    "top_features = sorted_features.head(6)\n",
    "print(top_features)"
   ]
  },
  {
   "cell_type": "code",
   "execution_count": null,
   "id": "d7a96961",
   "metadata": {
    "papermill": {
     "duration": 0.024514,
     "end_time": "2023-11-27T16:19:19.007042",
     "exception": false,
     "start_time": "2023-11-27T16:19:18.982528",
     "status": "completed"
    },
    "tags": []
   },
   "outputs": [],
   "source": []
  }
 ],
 "metadata": {
  "kaggle": {
   "accelerator": "none",
   "dataSources": [
    {
     "datasetId": 2008274,
     "sourceId": 3322096,
     "sourceType": "datasetVersion"
    }
   ],
   "dockerImageVersionId": 30587,
   "isGpuEnabled": false,
   "isInternetEnabled": true,
   "language": "python",
   "sourceType": "notebook"
  },
  "kernelspec": {
   "display_name": "Python 3",
   "language": "python",
   "name": "python3"
  },
  "language_info": {
   "codemirror_mode": {
    "name": "ipython",
    "version": 3
   },
   "file_extension": ".py",
   "mimetype": "text/x-python",
   "name": "python",
   "nbconvert_exporter": "python",
   "pygments_lexer": "ipython3",
   "version": "3.10.12"
  },
  "papermill": {
   "default_parameters": {},
   "duration": 12.567601,
   "end_time": "2023-11-27T16:19:19.751051",
   "environment_variables": {},
   "exception": null,
   "input_path": "__notebook__.ipynb",
   "output_path": "__notebook__.ipynb",
   "parameters": {},
   "start_time": "2023-11-27T16:19:07.183450",
   "version": "2.4.0"
  }
 },
 "nbformat": 4,
 "nbformat_minor": 5
}
